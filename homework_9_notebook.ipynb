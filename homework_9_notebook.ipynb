{
 "cells": [
  {
   "cell_type": "markdown",
   "id": "7381cfef-f549-4a13-a0e8-808cae42e11a",
   "metadata": {},
   "source": [
    "**Домашнее задание 9**"
   ]
  },
  {
   "cell_type": "code",
   "execution_count": 2,
   "id": "113fa779-1092-4910-8510-04f4a9838ad8",
   "metadata": {},
   "outputs": [
    {
     "name": "stdout",
     "output_type": "stream",
     "text": [
      "Defaulting to user installation because normal site-packages is not writeable\n",
      "Collecting scipy\n",
      "  Downloading scipy-1.10.1-cp38-cp38-manylinux_2_17_x86_64.manylinux2014_x86_64.whl (34.5 MB)\n",
      "\u001b[K     |████████████████████████████████| 34.5 MB 30 kB/s  eta 0:00:01\n",
      "\u001b[?25hRequirement already satisfied: numpy<1.27.0,>=1.19.5 in /home/aprokofeva/.local/lib/python3.8/site-packages (from scipy) (1.24.4)\n",
      "Installing collected packages: scipy\n",
      "Successfully installed scipy-1.10.1\n",
      "Note: you may need to restart the kernel to use updated packages.\n"
     ]
    }
   ],
   "source": [
    "pip install scipy"
   ]
  },
  {
   "cell_type": "code",
   "execution_count": 20,
   "id": "b7be742c-16fc-42c6-a67e-f02b2e9eed75",
   "metadata": {},
   "outputs": [],
   "source": [
    "import numpy as np\n",
    "import scipy.stats as sps\n",
    "import matplotlib.pyplot as plt\n",
    "import seaborn as sns\n",
    "import pandas as pd\n",
    "import statistics"
   ]
  },
  {
   "cell_type": "markdown",
   "id": "c49d324b-e493-4a07-bddb-5e99348ab293",
   "metadata": {},
   "source": [
    "Сгенерируем выборку из равномерного распределения U[0, 3] и построим для него boxplot."
   ]
  },
  {
   "cell_type": "code",
   "execution_count": 10,
   "id": "8c557f5b-ed0b-40a3-8842-9dded9ff74f4",
   "metadata": {},
   "outputs": [
    {
     "data": {
      "text/plain": [
       "Text(0.5, 1.0, 'Uniform distribution boxplot')"
      ]
     },
     "execution_count": 10,
     "metadata": {},
     "output_type": "execute_result"
    },
    {
     "data": {
      "image/png": "[encoded data removed]",
      "text/plain": [
       "<Figure size 720x720 with 1 Axes>"
      ]
     },
     "metadata": {
      "needs_background": "light"
     },
     "output_type": "display_data"
    }
   ],
   "source": [
    "data = sps.uniform(loc = 0, scale = 3).rvs(20)\n",
    "plt.figure(figsize = (10, 10))\n",
    "sns.boxplot(data)\n",
    "plt.title('Uniform distribution boxplot')"
   ]
  },
  {
   "cell_type": "markdown",
   "id": "f40b1d94-f3b3-41ab-97f3-951fcff8c970",
   "metadata": {},
   "source": [
    "Видим, что медиана располагается почти напротив 1.5 (не ровно напротив из-за малого размера выборки и, как следствие, случайного колебания медианы в ней), а усы - почти напротив 0 и 3. "
   ]
  },
  {
   "cell_type": "markdown",
   "id": "1d3558f4-015c-4e3a-bc03-f69a02323826",
   "metadata": {},
   "source": [
    "Найдем квартили и межквартильное расстояние для предложенной выборки."
   ]
  },
  {
   "cell_type": "code",
   "execution_count": 17,
   "id": "6ac5e82c-b112-4ad2-b348-33b62dbb4640",
   "metadata": {},
   "outputs": [
    {
     "data": {
      "text/plain": [
       "array([73.75, 79.  , 80.  ])"
      ]
     },
     "execution_count": 17,
     "metadata": {},
     "output_type": "execute_result"
    }
   ],
   "source": [
    "data = pd.Series([79, 80, 80, 80, 74, 80, 80, 79, 64, 78, 73, 78, 74, 45, 81, 48, 80, 82, 82, 70])\n",
    "Q = np.quantile(data, [0.25, 0.5, 0.75])\n",
    "Q"
   ]
  },
  {
   "cell_type": "code",
   "execution_count": 19,
   "id": "a65d5a5f-0df8-4d27-9f12-2ddd009a2410",
   "metadata": {},
   "outputs": [
    {
     "data": {
      "text/plain": [
       "6.25"
      ]
     },
     "execution_count": 19,
     "metadata": {},
     "output_type": "execute_result"
    }
   ],
   "source": [
    "IQR = Q[2] - Q[0]\n",
    "IQR"
   ]
  },
  {
   "cell_type": "markdown",
   "id": "e9c63cea-156a-4a37-a5ec-45997f2c4239",
   "metadata": {},
   "source": [
    "Медиана - это 2й квартиль, то есть в данном случае 79. Проверим это отдельной функцией."
   ]
  },
  {
   "cell_type": "code",
   "execution_count": 21,
   "id": "899915d9-6ba3-49fe-8438-18bb400f7c54",
   "metadata": {},
   "outputs": [
    {
     "data": {
      "text/plain": [
       "79.0"
      ]
     },
     "execution_count": 21,
     "metadata": {},
     "output_type": "execute_result"
    }
   ],
   "source": [
    "statistics.median(data)"
   ]
  },
  {
   "cell_type": "markdown",
   "id": "8c42aa57-8662-4bfc-a486-1ef1c33778bb",
   "metadata": {},
   "source": [
    "Найдем минимум и максимум, а также проверим все остальные вычисления."
   ]
  },
  {
   "cell_type": "code",
   "execution_count": 16,
   "id": "07c0b76e-23d8-418a-813e-2547ed32619e",
   "metadata": {},
   "outputs": [
    {
     "data": {
      "text/plain": [
       "count    20.000000\n",
       "mean     74.350000\n",
       "std      10.529532\n",
       "min      45.000000\n",
       "25%      73.750000\n",
       "50%      79.000000\n",
       "75%      80.000000\n",
       "max      82.000000\n",
       "dtype: float64"
      ]
     },
     "execution_count": 16,
     "metadata": {},
     "output_type": "execute_result"
    }
   ],
   "source": [
    "data.describe()"
   ]
  },
  {
   "cell_type": "markdown",
   "id": "1ff83b5f-3824-4db3-82eb-5452404324e4",
   "metadata": {},
   "source": [
    "Потенциальными выбросами будем считать 45, 48 и 64. Построим boxplot. "
   ]
  },
  {
   "cell_type": "code",
   "execution_count": 14,
   "id": "9a88e9b7-8178-4fc2-8b4b-b8c03a2f55ab",
   "metadata": {},
   "outputs": [
    {
     "data": {
      "text/plain": [
       "<Axes: >"
      ]
     },
     "execution_count": 14,
     "metadata": {},
     "output_type": "execute_result"
    },
    {
     "data": {
      "image/png": "[encoded data removed]",
      "text/plain": [
       "<Figure size 432x288 with 1 Axes>"
      ]
     },
     "metadata": {
      "needs_background": "light"
     },
     "output_type": "display_data"
    }
   ],
   "source": [
    "sns.boxplot(data)"
   ]
  },
  {
   "cell_type": "markdown",
   "id": "4865c1ca-3464-400b-a6e3-9ec89fad6cf0",
   "metadata": {},
   "source": [
    " Видим, что ранее выбранные точки 45, 48 и 64 на самом деле являются выбросами."
   ]
  },
  {
   "cell_type": "code",
   "execution_count": null,
   "id": "e895a2e0-f41d-4f09-b96b-4f3620b6cb00",
   "metadata": {},
   "outputs": [],
   "source": []
  }
 ],
 "metadata": {
  "kernelspec": {
   "display_name": "Python 3 (ipykernel)",
   "language": "python",
   "name": "python3"
  },
  "language_info": {
   "codemirror_mode": {
    "name": "ipython",
    "version": 3
   },
   "file_extension": ".py",
   "mimetype": "text/x-python",
   "name": "python",
   "nbconvert_exporter": "python",
   "pygments_lexer": "ipython3",
   "version": "3.8.12"
  }
 },
 "nbformat": 4,
 "nbformat_minor": 5
}
