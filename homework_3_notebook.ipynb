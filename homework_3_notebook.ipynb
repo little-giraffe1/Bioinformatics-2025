{
 "cells": [
  {
   "cell_type": "code",
   "execution_count": 1,
   "id": "6ae395ba-2eed-4c7a-aac7-00017631e478",
   "metadata": {},
   "outputs": [
    {
     "name": "stdout",
     "output_type": "stream",
     "text": [
      "Defaulting to user installation because normal site-packages is not writeable\n",
      "Requirement already satisfied: numpy in /home/aprokofeva/.local/lib/python3.8/site-packages (1.24.4)\n",
      "Note: you may need to restart the kernel to use updated packages.\n"
     ]
    }
   ],
   "source": [
    "pip install numpy"
   ]
  },
  {
   "cell_type": "code",
   "execution_count": 2,
   "id": "285d7597-618b-4c62-b059-4da2cb313322",
   "metadata": {},
   "outputs": [
    {
     "name": "stdout",
     "output_type": "stream",
     "text": [
      "Defaulting to user installation because normal site-packages is not writeable\n",
      "Requirement already satisfied: biopython in /home/aprokofeva/.local/lib/python3.8/site-packages (1.83)\n",
      "Requirement already satisfied: numpy in /home/aprokofeva/.local/lib/python3.8/site-packages (from biopython) (1.24.4)\n",
      "Note: you may need to restart the kernel to use updated packages.\n"
     ]
    }
   ],
   "source": [
    "pip install biopython"
   ]
  },
  {
   "cell_type": "code",
   "execution_count": 46,
   "id": "53993819-f596-4ca8-a1b0-3381d3fd8bc8",
   "metadata": {},
   "outputs": [],
   "source": [
    "from Bio import Align\n",
    "from Bio.Align import substitution_matrices"
   ]
  },
  {
   "cell_type": "code",
   "execution_count": 39,
   "id": "4251e7f2-ca15-4055-a606-4d8ec28fcbd6",
   "metadata": {},
   "outputs": [],
   "source": [
    "import numpy as np"
   ]
  },
  {
   "cell_type": "code",
   "execution_count": 57,
   "id": "c14a7e77-56c2-4530-bf19-718fd539a55e",
   "metadata": {},
   "outputs": [],
   "source": [
    "seq1 = \"ATCGTAGC\"\n",
    "seq2 = \"ATCGTACG\"\n",
    "seq3 = \"GCTAGCTA\"\n",
    "seq4 = \"TACGATCG\"\n",
    "rna1 = \"AUGCUAGC\"\n",
    "rna2 = \"AUGCUGCA\"\n",
    "rna3 = \"GCUAGCUA\"\n",
    "rna4 = \"UACGAUCG\"\n",
    "protein1 = \"ACDEFGHIKLMNPQRSTVWY\"\n",
    "protein2 = \"ACDFGHIKLMNPRSTVWY\"\n",
    "protein3 = \"ACDEFGHLMNPQRSTVWX\"\n",
    "protein4 = \"ABCDEFGHIJKLMN\""
   ]
  },
  {
   "cell_type": "code",
   "execution_count": 55,
   "id": "f384b132-3c15-49c1-8a7d-ba4abc7899af",
   "metadata": {},
   "outputs": [
    {
     "name": "stdout",
     "output_type": "stream",
     "text": [
      "AUGCUAGC-\n",
      "AUGCU-GCA\n",
      "\n",
      "AUGCUAGC--\n",
      "--GCUAGCUA\n",
      "\n",
      "-GCUAGCUA\n",
      "UACGAUC-G\n",
      "\n",
      "GACGAAG\n",
      "-ACCAAG\n"
     ]
    }
   ],
   "source": [
    "def needleman_wunsch(seq_1, seq_2, match = 1, mismatch = -1, gap = -2):\n",
    "    m = len(seq_1)\n",
    "    n = len(seq_2)\n",
    "    score = np.zeros(shape = (n, m))\n",
    "    arr = np.zeros(shape = (n + 1, m + 1))\n",
    "    arr[0] += np.arange(0, m + 1)*gap\n",
    "    arr[:, 0] += np.arange(0, n + 1)*gap\n",
    "    \n",
    "    for i in range(n):\n",
    "        for j in range(m):\n",
    "            score[i][j] =  match if seq_1[j] == seq_2[i] else mismatch\n",
    "        \n",
    "    for i in range(1, n + 1):\n",
    "        for j in range(1, m + 1):\n",
    "            arr[i][j] = max(arr[i-1][j] + gap, arr[i][j-1] + gap, arr[i-1][j-1] + score[i-1][j-1])\n",
    "    \n",
    "    seq_1_al = ''\n",
    "    seq_2_al = ''\n",
    "    \n",
    "    i, j = len(seq_2), len(seq_1)\n",
    "    while not(i == 0 and j == 0): \n",
    "        if i > 0 and j > 0 and arr[i][j] == arr[i-1][j-1] + score[i-1][j-1]:                  \n",
    "            seq_1_al = seq_1_al + seq_1[j-1]\n",
    "            seq_2_al = seq_2_al + seq_2[i-1]\n",
    "            i -= 1\n",
    "            j -= 1\n",
    "        elif i >= 0 and arr[i][j] == arr[i-1][j] + gap:                  \n",
    "            seq_1_al = seq_1_al + '-'\n",
    "            seq_2_al = seq_2_al + seq_2[i-1]\n",
    "            i -= 1\n",
    "        elif j >= 0 and arr[i][j] == arr[i][j-1] + gap:        \n",
    "            seq_1_al = seq_1_al + seq_1[j-1]\n",
    "            seq_2_al = seq_2_al + '-'\n",
    "            j -= 1\n",
    "    \n",
    "    print(seq_1_al[::-1])\n",
    "    print(seq_2_al[::-1])\n",
    "\n",
    "rna1 = \"AUGCUAGC\"\n",
    "rna2 = \"AUGCUGCA\"\n",
    "rna3 = \"GCUAGCUA\"\n",
    "rna4 = \"UACGAUCG\"\n",
    "\n",
    "needleman_wunsch(rna1, rna2)  \n",
    "print()\n",
    "needleman_wunsch(rna1, rna3)   \n",
    "print()\n",
    "needleman_wunsch(rna3, rna4) \n",
    "print()\n",
    "needleman_wunsch(\"GACGAAG\", \"ACCAAG\")"
   ]
  },
  {
   "cell_type": "code",
   "execution_count": 61,
   "id": "c423ee40-a6e6-4465-8025-31a4e8af3418",
   "metadata": {},
   "outputs": [
    {
     "name": "stdout",
     "output_type": "stream",
     "text": [
      "AUGCU\n",
      "AUGCU\n",
      "\n",
      "GCUAGC\n",
      "GCUAGC\n",
      "\n",
      "ACGAAG\n",
      "ACCAAG\n",
      "\n",
      "AGGCCUAAUGG-CAC\n",
      "AGGCCGAAUGGUCAC\n"
     ]
    }
   ],
   "source": [
    "def smith_waterman(seq_1, seq_2, match = 1, mismatch = -1, gap = -2):\n",
    "    m = len(seq_1)\n",
    "    n = len(seq_2)\n",
    "    score = np.zeros(shape = (n, m))\n",
    "    arr = np.zeros(shape = (n + 1, m + 1))\n",
    "    \n",
    "    for i in range(n):\n",
    "        for j in range(m):\n",
    "            score[i][j] =  match if seq_1[j] == seq_2[i] else mismatch\n",
    "        \n",
    "    for i in range(1, n + 1):\n",
    "        for j in range(1, m + 1):\n",
    "            arr[i][j] = max(arr[i-1][j] + gap, arr[i][j-1] + gap, arr[i-1][j-1] + score[i-1][j-1], 0)\n",
    "    \n",
    "    seq_1_al = ''\n",
    "    seq_2_al = ''\n",
    "    \n",
    "    i, j = np.unravel_index(arr.argmax(), arr.shape)\n",
    "    while not((i == 0 and j == 0) or arr[i][j] == 0): \n",
    "        if i > 0 and j > 0 and arr[i][j] == arr[i-1][j-1] + score[i-1][j-1]:                  \n",
    "            seq_1_al = seq_1_al + seq_1[j-1]\n",
    "            seq_2_al = seq_2_al + seq_2[i-1]\n",
    "            i -= 1\n",
    "            j -= 1\n",
    "        elif i >= 0 and arr[i][j] == arr[i-1][j] + gap:                  \n",
    "            seq_1_al = seq_1_al + '-'\n",
    "            seq_2_al = seq_2_al + seq_2[i-1]\n",
    "            i -= 1\n",
    "        elif j >= 0 and arr[i][j] == arr[i][j-1] + gap:        \n",
    "            seq_1_al = seq_1_al + seq_1[j-1]\n",
    "            seq_2_al = seq_2_al + '-'\n",
    "            j -= 1\n",
    "    \n",
    "    print(seq_1_al[::-1])\n",
    "    print(seq_2_al[::-1])\n",
    "\n",
    "rna1 = \"AUGCUAGC\"\n",
    "rna2 = \"AUGCUGCA\"\n",
    "rna3 = \"GCUAGCUA\"\n",
    "rna4 = \"UACGAUCG\"\n",
    "\n",
    "smith_waterman(rna1, rna2)  \n",
    "print()\n",
    "smith_waterman(rna1, rna3)  \n",
    "print()\n",
    "smith_waterman(\"GACGAAG\", \"ACCAAG\")\n",
    "print()\n",
    "smith_waterman(\"AUGTUCGCAUUAGCAGGCCUAAUGGCACCGUCCAGCUCGUAUGCAGUGCA\", \"AGGCCGAAUGGUCAC\")"
   ]
  },
  {
   "cell_type": "code",
   "execution_count": 54,
   "id": "36b483fd-283f-4b58-a559-fefb609f90e7",
   "metadata": {},
   "outputs": [
    {
     "name": "stdout",
     "output_type": "stream",
     "text": [
      "target            0 AUGTUCGCAUUAGCAGGCCUAAUGGCACCGUCCAGCUCGUAUGCAGUGCA 50\n",
      "                  0 --|-||-|-|--||-----|-----|---|-------------------- 50\n",
      "query             0 --G-UC-C-U--GC-----U-----C---G-------------------- 10\n",
      "\n",
      "20.0\n",
      "target           29 GUCCAGCUCG 39\n",
      "                  0 ||||.||||| 10\n",
      "query             0 GUCCUGCUCG 10\n",
      "\n",
      "17.0\n",
      "target            0 GACG-AAG 7\n",
      "                  0 -||--||| 8\n",
      "query             0 -AC-CAAG 6\n",
      "\n",
      "10.0\n",
      "target            0 GAC-GAAG 7\n",
      "                  0 -||--||| 8\n",
      "query             0 -ACC-AAG 6\n",
      "\n",
      "10.0\n",
      "target            0 GA-CGAAG 7\n",
      "                  0 -|-|-||| 8\n",
      "query             0 -ACC-AAG 6\n",
      "\n",
      "10.0\n"
     ]
    }
   ],
   "source": [
    "# check with biopython Align\n",
    "# Мне этот инструмент не очень нравится, он не очень хорошо делает локальное выравнивание, если не установить огромный штраф за открытие гэпа\n",
    "# Но для небольших похожих последовательностей подходит\n",
    "seq_1 = \"AUGTUCGCAUUAGCAGGCCUAAUGGCACCGUCCAGCUCGUAUGCAGUGCA\"\n",
    "seq_2 = \"GUCCUGCUCG\"\n",
    "seq_3 = \"GACGAAG\"\n",
    "seq_4 = \"ACCAAG\"\n",
    "\n",
    "aligner_local = Align.PairwiseAligner(match_score = 2.0, mismatch_score = -1)\n",
    "aligner_local.open_gap_score = -10\n",
    "aligner_local.extend_gap_score = -1\n",
    "aligner_local.mode = 'local'\n",
    "\n",
    "aligner_global = Align.PairwiseAligner(match_score = 2.0, mismatch_score = -1)\n",
    "aligner.open_gap_score = -3\n",
    "aligner.extend_gap_score = -1\n",
    "aligner.mode = 'global'\n",
    "\n",
    "alignments_1 = aligner_global.align(seq_1, seq_2)\n",
    "alignments_2 = aligner_local.align(seq_1, seq_2)\n",
    "alignments_3 = aligner_global.align(seq_3, seq_4)\n",
    "\n",
    "print(alignments_1[0])   # здесь огромное количество разных выравниваний, поэтому вывожу только первое; видим, что оно глобальное\n",
    "print(alignments_1[0].score)\n",
    "\n",
    "print(alignments_2[0])   # здесь выравнивание всего одно и оно локальное, очень компактное\n",
    "print(alignments_2[0].score)\n",
    "\n",
    "for align in alignments_3:  # здесь всего три варианта; как и было сказано, на коротких последовательностях работает нормально\n",
    "    print(align)\n",
    "    print(align.score)"
   ]
  },
  {
   "cell_type": "code",
   "execution_count": 48,
   "id": "f5aa5aba-d892-4608-9484-94b7fdc19dc0",
   "metadata": {},
   "outputs": [
    {
     "name": "stdout",
     "output_type": "stream",
     "text": [
      "target            0 ACDEFGHIKLMNPQRSTVWY 20\n",
      "                  0 |||-|||||||||-|||||| 20\n",
      "query             0 ACD-FGHIKLMNP-RSTVWY 18\n",
      "\n",
      "86.0\n"
     ]
    }
   ],
   "source": [
    "#этот же инструмент работает и для белков, если задать матрицу замен BLOSUM \n",
    "aligner = Align.PairwiseAligner()\n",
    "aligner.substitution_matrix = substitution_matrices.load(\"BLOSUM62\")\n",
    "aligner.open_gap_score = -10\n",
    "aligner.extend_gap_score = -0.5\n",
    "\n",
    "alignment = aligner.align(protein1, protein2)\n",
    "print(alignment[0])\n",
    "print(alignment[0].score)"
   ]
  },
  {
   "cell_type": "markdown",
   "id": "f5b5f522-f25e-4ce1-9fc9-1d45377d14cd",
   "metadata": {},
   "source": [
    "Видим, что ручное выравнивание и выравнивание алгоритмом Нидлмана-Вунша совпали. Алгоритм Смита-Ватермана производит локальное выравнивание, поэтому выдает в основном общие куски. Реализованный пакет Biopython выдает несколько результатов, и все они более-менее совпадают с полученными другими методами. "
   ]
  }
 ],
 "metadata": {
  "kernelspec": {
   "display_name": "Python 3 (ipykernel)",
   "language": "python",
   "name": "python3"
  },
  "language_info": {
   "codemirror_mode": {
    "name": "ipython",
    "version": 3
   },
   "file_extension": ".py",
   "mimetype": "text/x-python",
   "name": "python",
   "nbconvert_exporter": "python",
   "pygments_lexer": "ipython3",
   "version": "3.8.12"
  }
 },
 "nbformat": 4,
 "nbformat_minor": 5
}
